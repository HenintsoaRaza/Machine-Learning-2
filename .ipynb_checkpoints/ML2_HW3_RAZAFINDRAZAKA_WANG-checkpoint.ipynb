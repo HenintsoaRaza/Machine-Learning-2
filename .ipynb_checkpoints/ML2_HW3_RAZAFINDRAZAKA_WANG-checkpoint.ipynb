{
 "cells": [
  {
   "cell_type": "markdown",
   "metadata": {},
   "source": [
    "# <center> Homework 3: Hidden Markov Model (HMM) </center>\n",
    "<div>\n",
    "    <center> RAZAFINDRAZAKA Henintsoa </center>\n",
    "    <center> WANG James </center>\n",
    "    <center> ____________</center>\n",
    "    <center> ING5 SI GR02 </center>\n",
    "    <center> 30/10/2020 </center>\n",
    "</div>"
   ]
  },
  {
   "cell_type": "markdown",
   "metadata": {},
   "source": [
    "# <center> [Tasks] </center>\n",
    "\n",
    "\n",
    "> 1. Implement yourself the HMM algorithm to solve the evaluation and decoding problems for the `Example` given in class.\n",
    "2. Compare your results to those that were given in this example."
   ]
  },
  {
   "cell_type": "markdown",
   "metadata": {},
   "source": [
    "## 1. Evaluation problem "
   ]
  },
  {
   "cell_type": "markdown",
   "metadata": {},
   "source": [
    "Suppose that a hidden state can take the following values: $z_0, z_1, z_2, z_3$.\n",
    "\n",
    "Suppose also that an observable state can take values: $x_0, x_1, x_2, x_3, x_4$.\n",
    "\n",
    "Then, assume also that both the transition and emission probabilities are given:\n",
    "\n",
    "$$\n",
    "\\{a_{ij} \\}\n",
    "=\n",
    "\\begin{bmatrix}\n",
    "1 & 0 & 0 & 0\n",
    "\\\\ \n",
    "0.2 & 0.3 & 0.1 & 0.4 \n",
    "\\\\\n",
    "0.2 & 0.5 & 0.2 & 0.1\n",
    "\\\\\n",
    "0.7 & 0.1 & 0.1 & 0.1\n",
    "\\end{bmatrix}\n",
    "$$\n",
    "\n",
    "$$\n",
    "\\{b_{jk} \\}\n",
    "=\n",
    "\\begin{bmatrix}\n",
    "1 & 0 & 0 & 0 & 0\n",
    "\\\\ \n",
    "0 & 0.3 & 0.4 & 0.1 & 0.2\n",
    "\\\\\n",
    "0 & 0.1 & 0.1 & 0.7 & 0.1\n",
    "\\\\\n",
    "0 & 0.5 & 0.2 & 0.1 & 0.2\n",
    "\\end{bmatrix}\n",
    "$$\n",
    "\n",
    "Now, let us proceed to compute the probability of a given sequence of visible states from an HMM M.\n",
    "\n",
    "Suppose that the following information is given: $x = \\{ x_1, x_3, x_2, x_0 \\}$ , $z(0) = z_1$, with transition and emission probabilities $a_{ij}$ and $b_{jk}$ given above.\n",
    "\n",
    "Then, let us compute $P(x|M)$ using the HMM forward algorithm introduced in class."
   ]
  },
  {
   "cell_type": "markdown",
   "metadata": {},
   "source": [
    "### 1.1. Initialization of $\\tilde{X}, \\tilde{Z}, a_{ij}, b_{jk}, x \\text{  and  } z(0)$"
   ]
  },
  {
   "cell_type": "code",
   "execution_count": 1,
   "metadata": {},
   "outputs": [
    {
     "name": "stdout",
     "output_type": "stream",
     "text": [
      "z set of values =  ['z0', 'z1', 'z2', 'z3']\n",
      "x set of values =  ['x0', 'x1', 'x2', 'x3', 'x4']\n",
      "x =  ['x1', 'x3', 'x2', 'x0']\n"
     ]
    }
   ],
   "source": [
    "import numpy as np\n",
    "\n",
    "N = 4 # total nb of possible values that a hidden state can take\n",
    "z_set = []\n",
    "for i in range(N):\n",
    "    z_set.append( 'z'+str(i) )\n",
    "print('z set of values = ',z_set)\n",
    "\n",
    "K = 5 # total nb of possible values that an observable state can take\n",
    "x_set = []\n",
    "for i in range(K):\n",
    "    x_set.append( 'x'+str(i) )\n",
    "print('x set of values = ',x_set)\n",
    "\n",
    "x = [x_set[k] for k in [1,3,2,0] ]\n",
    "print('x = ',x)\n",
    "\n",
    "T = len(x)"
   ]
  },
  {
   "cell_type": "code",
   "execution_count": 2,
   "metadata": {},
   "outputs": [
    {
     "name": "stdout",
     "output_type": "stream",
     "text": [
      "a's shape :  (4, 4) \n",
      "b's shape :  (4, 5)\n"
     ]
    }
   ],
   "source": [
    "a = np.asarray(\n",
    "    [[1 ,  0,   0,   0],\n",
    "    [0.2, 0.3, 0.1, 0.4],\n",
    "    [0.2, 0.5, 0.2, 0.1],\n",
    "    [0.7, 0.1, 0.1, 0.1]])\n",
    "\n",
    "b = np.asarray(\n",
    "    [[1,  0,  0,   0,   0 ],\n",
    "    [0, 0.3, 0.4, 0.1, 0.2],\n",
    "    [0, 0.1, 0.1, 0.7, 0.1],\n",
    "    [0, 0.5, 0.2, 0.1, 0.2]])\n",
    "\n",
    "print(\"a's shape : \",a.shape, \"\\nb's shape : \", b.shape )"
   ]
  },
  {
   "cell_type": "code",
   "execution_count": 3,
   "metadata": {},
   "outputs": [
    {
     "name": "stdout",
     "output_type": "stream",
     "text": [
      "z =  ['z1' 'undefined' 'undefined' 'undefined' 'undefined']\n"
     ]
    }
   ],
   "source": [
    "z = np.full((T + 1,), 'undefined')\n",
    "z[0] = z_set[1]\n",
    "print('z = ',z)"
   ]
  },
  {
   "cell_type": "markdown",
   "metadata": {},
   "source": [
    "### 1.2. Forward algorithm\n",
    "#### A. Initialization of $α_j$ for $t = 0$"
   ]
  },
  {
   "cell_type": "markdown",
   "metadata": {},
   "source": [
    "\n",
    "$$\n",
    "\\alpha_j(t=0)=\\left\\{\n",
    "            \\begin{array}{ll}\n",
    "              0, \\quad \\text{if} \\quad z_j \\neq \\text{initial state} \\\\\n",
    "              1, \\quad \\text{if} \\quad z_j =  \\text{initial state}\n",
    "            \\end{array}\n",
    "          \\right.\n",
    "$$"
   ]
  },
  {
   "cell_type": "code",
   "execution_count": 4,
   "metadata": {},
   "outputs": [
    {
     "name": "stdout",
     "output_type": "stream",
     "text": [
      "α = \n",
      " [[0. 0. 0. 0. 0.]\n",
      " [1. 0. 0. 0. 0.]\n",
      " [0. 0. 0. 0. 0.]\n",
      " [0. 0. 0. 0. 0.]]\n"
     ]
    }
   ],
   "source": [
    "alpha = np.zeros((N, T+1))\n",
    "\n",
    "j_initial_state = int(z[0][1])\n",
    "for j in range(N):\n",
    "    if j == j_initial_state:\n",
    "        alpha[j][0] = 1 \n",
    "\n",
    "print('α = \\n',alpha)"
   ]
  },
  {
   "cell_type": "markdown",
   "metadata": {},
   "source": [
    "#### B. Computation of $α_j$ for $t = 1,\\dots,T$"
   ]
  },
  {
   "cell_type": "markdown",
   "metadata": {},
   "source": [
    "$$\n",
    "\\alpha_j(t)= b_{jk} \\sum^N_{i=1} \\alpha_i(t-1)a_{ij}\n",
    "$$"
   ]
  },
  {
   "cell_type": "code",
   "execution_count": 5,
   "metadata": {},
   "outputs": [
    {
     "name": "stdout",
     "output_type": "stream",
     "text": [
      "α = \n",
      " [[0.0000e+00 0.0000e+00 0.0000e+00 0.0000e+00 1.8218e-03]\n",
      " [1.0000e+00 9.0000e-02 5.2000e-03 5.1920e-03 0.0000e+00]\n",
      " [0.0000e+00 1.0000e-02 2.1700e-02 5.4300e-04 0.0000e+00]\n",
      " [0.0000e+00 2.0000e-01 5.7000e-03 9.6400e-04 0.0000e+00]]\n"
     ]
    }
   ],
   "source": [
    "for t in range(1, T+1):\n",
    "    for j in range(N):\n",
    "        k = int(x[t-1][1])\n",
    "        \n",
    "        Sum = 0\n",
    "        for i in range(N):\n",
    "            Sum += alpha[i][t-1] * a[i][j]\n",
    "            \n",
    "        alpha[j][t] = b[j][k] * Sum\n",
    "print('α = \\n',alpha)"
   ]
  },
  {
   "cell_type": "code",
   "execution_count": 6,
   "metadata": {},
   "outputs": [
    {
     "name": "stdout",
     "output_type": "stream",
     "text": [
      "P(X|M) =  0.0018218000000000002\n"
     ]
    }
   ],
   "source": [
    "P_xm = alpha[0][T]\n",
    "print('P(X|M) = ', P_xm)"
   ]
  },
  {
   "cell_type": "markdown",
   "metadata": {},
   "source": [
    "#### <center> Results </center> \n",
    "> We have the same results than in the example given in class with \n",
    "\n",
    "> $P(X|M) = 0.0018218$"
   ]
  },
  {
   "cell_type": "markdown",
   "metadata": {},
   "source": [
    "## 2. Decoding problem"
   ]
  },
  {
   "cell_type": "markdown",
   "metadata": {},
   "source": [
    "### 2.1. Initialization of $\\tilde{X}, \\tilde{Z}, a_{ij}, b_{jk}, x \\text{  and  } z(0)$     (identical to 1.1)"
   ]
  },
  {
   "cell_type": "code",
   "execution_count": 7,
   "metadata": {},
   "outputs": [
    {
     "name": "stdout",
     "output_type": "stream",
     "text": [
      "z set of values =  ['z0', 'z1', 'z2', 'z3']\n",
      "x set of values =  ['x0', 'x1', 'x2', 'x3', 'x4']\n",
      "x =  ['x1', 'x3', 'x2', 'x0']\n"
     ]
    }
   ],
   "source": [
    "import numpy as np\n",
    "\n",
    "N = 4 # total nb of possible values that a hidden state can take\n",
    "z_set = []\n",
    "for i in range(N):\n",
    "    z_set.append( 'z'+str(i) )\n",
    "print('z set of values = ',z_set)\n",
    "\n",
    "K = 5 # total nb of possible values that an observable state can take\n",
    "x_set = []\n",
    "for i in range(K):\n",
    "    x_set.append( 'x'+str(i) )\n",
    "print('x set of values = ',x_set)\n",
    "\n",
    "x = [x_set[k] for k in [1,3,2,0] ]\n",
    "print('x = ',x)\n",
    "\n",
    "T = len(x)"
   ]
  },
  {
   "cell_type": "code",
   "execution_count": 8,
   "metadata": {},
   "outputs": [
    {
     "name": "stdout",
     "output_type": "stream",
     "text": [
      "a's shape :  (4, 4) \n",
      "b's shape :  (4, 5)\n"
     ]
    }
   ],
   "source": [
    "a = np.asarray(\n",
    "    [[1 ,  0,   0,   0],\n",
    "    [0.2, 0.3, 0.1, 0.4],\n",
    "    [0.2, 0.5, 0.2, 0.1],\n",
    "    [0.7, 0.1, 0.1, 0.1]])\n",
    "\n",
    "b = np.asarray(\n",
    "    [[1,  0,  0,   0,   0 ],\n",
    "    [0, 0.3, 0.4, 0.1, 0.2],\n",
    "    [0, 0.1, 0.1, 0.7, 0.1],\n",
    "    [0, 0.5, 0.2, 0.1, 0.2]])\n",
    "\n",
    "print(\"a's shape : \",a.shape, \"\\nb's shape : \", b.shape )"
   ]
  },
  {
   "cell_type": "code",
   "execution_count": 9,
   "metadata": {},
   "outputs": [
    {
     "name": "stdout",
     "output_type": "stream",
     "text": [
      "z =  ['z1' 'undefined' 'undefined' 'undefined' 'undefined']\n"
     ]
    }
   ],
   "source": [
    "z = np.full((T + 1,), 'undefined')\n",
    "z[0] = z_set[1]\n",
    "print('z = ',z)"
   ]
  },
  {
   "cell_type": "markdown",
   "metadata": {},
   "source": [
    "### 2.2. Algorithm for decoding problem\n",
    "#### A. Initialization of $α_j$ for $t = 0$, and $Path$"
   ]
  },
  {
   "cell_type": "markdown",
   "metadata": {},
   "source": [
    "\n",
    "$$\n",
    "\\alpha_j(t=0)=\\left\\{\n",
    "            \\begin{array}{ll}\n",
    "              0, \\quad \\text{if} \\quad z_j \\neq \\text{initial state} \\\\\n",
    "              1, \\quad \\text{if} \\quad z_j =  \\text{initial state}\n",
    "            \\end{array}\n",
    "          \\right.\n",
    "$$"
   ]
  },
  {
   "cell_type": "code",
   "execution_count": 10,
   "metadata": {},
   "outputs": [
    {
     "name": "stdout",
     "output_type": "stream",
     "text": [
      "α = \n",
      " [[0. 0. 0. 0. 0.]\n",
      " [1. 0. 0. 0. 0.]\n",
      " [0. 0. 0. 0. 0.]\n",
      " [0. 0. 0. 0. 0.]]\n"
     ]
    }
   ],
   "source": [
    "alpha = np.zeros((N, T+1))\n",
    "\n",
    "j_initial_state = int(z[0][1])\n",
    "for j in range(N):\n",
    "    if j == j_initial_state:\n",
    "        alpha[j][0] = 1 \n",
    "\n",
    "print('α = \\n',alpha)"
   ]
  },
  {
   "cell_type": "code",
   "execution_count": 11,
   "metadata": {},
   "outputs": [
    {
     "name": "stdout",
     "output_type": "stream",
     "text": [
      "Path =  ['z1']\n"
     ]
    }
   ],
   "source": [
    "Path = []\n",
    "Path.append(z[0])\n",
    "print('Path = ', Path)"
   ]
  },
  {
   "cell_type": "markdown",
   "metadata": {},
   "source": [
    "#### B. Computation of $α_j$ for $t = 1,\\dots,T$, and construction of $Path$"
   ]
  },
  {
   "cell_type": "code",
   "execution_count": 12,
   "metadata": {},
   "outputs": [
    {
     "name": "stdout",
     "output_type": "stream",
     "text": [
      "α = \n",
      " [[0.0000e+00 0.0000e+00 0.0000e+00 0.0000e+00 1.8218e-03]\n",
      " [1.0000e+00 9.0000e-02 5.2000e-03 5.1920e-03 0.0000e+00]\n",
      " [0.0000e+00 1.0000e-02 2.1700e-02 5.4300e-04 0.0000e+00]\n",
      " [0.0000e+00 2.0000e-01 5.7000e-03 9.6400e-04 0.0000e+00]]\n",
      "\n",
      "  x  =  ['x1', 'x3', 'x2', 'x0']\n",
      "\n",
      "Path =  ['z1', 'z3', 'z2', 'z1', 'z0']\n"
     ]
    }
   ],
   "source": [
    "for t in range(1, T+1):\n",
    "    jmax = 0\n",
    "    for j in range(N):\n",
    "        k = int(x[t-1][1])\n",
    "        \n",
    "        Sum = 0\n",
    "        for i in range(N):\n",
    "            Sum += alpha[i][t-1] * a[i][j]\n",
    "            \n",
    "        alpha[j][t] = b[j][k] * Sum\n",
    "        \n",
    "        if alpha[jmax][t] < alpha[j][t]:\n",
    "            jmax = j\n",
    "    Path.append(z_set[jmax])\n",
    "\n",
    "print('α = \\n',alpha)\n",
    "print('\\n  x  = ',x)\n",
    "print('\\nPath = ',Path)"
   ]
  },
  {
   "cell_type": "markdown",
   "metadata": {},
   "source": [
    "#### <center> Results </center> \n",
    "> As in the decoding example given in class, the most probable sequence of hidden states Z that would have generated the sequence X appears to be: \n",
    "\n",
    "> $Path = \\{ z_1, z_3, z_2, z_1, z_0 \\}$"
   ]
  }
 ],
 "metadata": {
  "kernelspec": {
   "display_name": "Python 3",
   "language": "python",
   "name": "python3"
  },
  "language_info": {
   "codemirror_mode": {
    "name": "ipython",
    "version": 3
   },
   "file_extension": ".py",
   "mimetype": "text/x-python",
   "name": "python",
   "nbconvert_exporter": "python",
   "pygments_lexer": "ipython3",
   "version": "3.7.4"
  }
 },
 "nbformat": 4,
 "nbformat_minor": 2
}
